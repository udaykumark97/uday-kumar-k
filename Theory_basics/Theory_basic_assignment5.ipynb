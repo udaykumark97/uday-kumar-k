{
 "cells": [
  {
   "cell_type": "markdown",
   "id": "7bbb1e71",
   "metadata": {},
   "source": [
    "1. What does an empty dictionary's code look like?\n",
    "\n",
    "A. we have two methods to create a empty dictionary and they are:\n",
    "   * creating a variable to name the dictionary and assigning the empty set.\n",
    "   eg: a={}\n",
    "   * By fuction\n",
    "   dict()\n",
    "\n",
    "2. What is the value of a dictionary value with the key 'foo' and the value 42?\n",
    "\n",
    "A. 42\n",
    "\n",
    "3. What is the most significant distinction between a dictionary and a list?\n",
    "\n",
    "A. A list refers to a collection of various index value pairs like that in the case of an array in C++. A dictionary refers to      a hashed structure of various pairs of keys and values.\n",
    "   dictionary are enclosed with {}\n",
    "   lists are enclosed with[].\n",
    "\n",
    "4. What happens if you try to access spam['foo'] if spam is {'bar': 100}?\n",
    "\n",
    "A. The interpreter will throw an error as key 'foo' is not found in spam.\n",
    "\n",
    "5. If a dictionary is stored in spam, what is the difference between the expressions 'cat' in spam and 'cat' in spam.keys()?\n",
    "\n",
    "A. 'cat' in spam checks whether there is a 'cat' key in dictionary, while 'cat' in spam.keys() checks whether there is a            value'cat' for one of the keys in spam.\n",
    "\n",
    "6. If a dictionary is stored in spam, what is the difference between the expressions 'cat' in spam and 'cat' in spam.values()?\n",
    "\n",
    "A. There is no difference. The in operator checks whether a value exists as a key in the dictionary. 'cat' in spam checks          whether there is a 'cat' key in the dictionary, while 'cat' in spam. values() checks whether there is a value 'cat' for one      of the keys in spam .\n",
    "\n",
    "7. What is a shortcut for the following code?\n",
    "   if 'color' not in spam:\n",
    "   spam['color'] = 'black'\n",
    "   \n",
    "A. spam.setdefault('color', 'black')\n",
    "\n",
    "8. How do you \"pretty print\" dictionary values using which module and function?\n",
    "\n",
    "A. pprint.pprint()\n",
    "\n"
   ]
  }
 ],
 "metadata": {
  "kernelspec": {
   "display_name": "Python 3 (ipykernel)",
   "language": "python",
   "name": "python3"
  },
  "language_info": {
   "codemirror_mode": {
    "name": "ipython",
    "version": 3
   },
   "file_extension": ".py",
   "mimetype": "text/x-python",
   "name": "python",
   "nbconvert_exporter": "python",
   "pygments_lexer": "ipython3",
   "version": "3.9.12"
  }
 },
 "nbformat": 4,
 "nbformat_minor": 5
}
