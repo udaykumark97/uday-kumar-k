{
 "cells": [
  {
   "cell_type": "code",
   "execution_count": 14,
   "id": "2858d5a8",
   "metadata": {},
   "outputs": [
    {
     "name": "stdout",
     "output_type": "stream",
     "text": [
      "[1, 2, 4]\n"
     ]
    }
   ],
   "source": [
    "#Create a function that takes a list of strings and integers, and filters out the list so that it returns a list of integers only.\n",
    "#Examples\n",
    "#filter_list([1, 2, 3, \"a\", \"b\", 4]) ➞ [1, 2, 3, 4]\n",
    "\n",
    "#filter_list([\"A\", 0, \"Edabit\", 1729, \"Python\", \"1729\"]) ➞ [0, 1729]\n",
    "\n",
    "#filter_list([\"Nothing\", \"here\"]) ➞ []\n",
    "\n",
    "def filter_list(li):\n",
    "    res=[]\n",
    "    for i in li:\n",
    "        if type(i)==int:\n",
    "            res=res+[i]\n",
    "    return res\n",
    "li=[1,2,'a','e','o',4]\n",
    "print(filter_list(li))"
   ]
  },
  {
   "cell_type": "code",
   "execution_count": 23,
   "id": "db6897d3",
   "metadata": {},
   "outputs": [
    {
     "name": "stdout",
     "output_type": "stream",
     "text": [
      "enter the number of elements: 5\n",
      "1\n",
      "2\n",
      "3\n",
      "4\n",
      "5\n",
      "[1, 3, 5, 7, 9]\n"
     ]
    }
   ],
   "source": [
    "#Given a list of numbers, create a function which returns the list but with each element's index in the list added to itself. This means you add 0 to the number at index 0, add 1 to the number at index 1, etc...\n",
    "#Examples\n",
    "#add_indexes([0, 0, 0, 0, 0]) ➞ [0, 1, 2, 3, 4]\n",
    "\n",
    "#add_indexes([1, 2, 3, 4, 5]) ➞ [1, 3, 5, 7, 9]\n",
    "\n",
    "#add_indexes([5, 4, 3, 2, 1]) ➞ [5, 5, 5, 5, 5]\n",
    "\n",
    "\n",
    "def add_indexes(li):\n",
    "    res=[]\n",
    "    for i in range(0,len(li)):\n",
    "        res=res+[i+li[i]]\n",
    "    return res\n",
    "li=[]\n",
    "n=int(input(\"enter the number of elements: \"))\n",
    "for i in range(0,n):\n",
    "    li=li+[int(input())]\n",
    "print(add_indexes(li))"
   ]
  },
  {
   "cell_type": "markdown",
   "id": "58a2c27b",
   "metadata": {},
   "source": [
    "#### "
   ]
  },
  {
   "cell_type": "code",
   "execution_count": 29,
   "id": "6bb9f01e",
   "metadata": {},
   "outputs": [
    {
     "name": "stdout",
     "output_type": "stream",
     "text": [
      "Enter the height of the cone:- 15\n",
      "Enter the radius of the cone:- 6\n",
      "565.4866776461628\n"
     ]
    }
   ],
   "source": [
    "#Create a function that takes the height and radius of a cone as arguments and returns the volume of the cone rounded to the nearest hundredth. See the resources tab for the formula.\n",
    " \n",
    "#Examples\n",
    "#cone_volume(3, 2) ➞ 12.57\n",
    "\n",
    "#cone_volume(15, 6) ➞ 565.49\n",
    "\n",
    "#cone_volume(18, 0) ➞ 0\n",
    "\n",
    "\n",
    "\n",
    "import math\n",
    "def cone_volume(h,r):\n",
    "    return((1.0/3)*math.pi*r*r*h)\n",
    "h=int(input(\"Enter the height of the cone:- \"))\n",
    "r=int(input(\"Enter the radius of the cone:- \"))\n",
    "print(cone_volume(h,r))\n",
    "    "
   ]
  },
  {
   "cell_type": "code",
   "execution_count": 26,
   "id": "8495c362",
   "metadata": {},
   "outputs": [
    {
     "name": "stdout",
     "output_type": "stream",
     "text": [
      "Enter the triangle number: 6\n",
      "21\n"
     ]
    }
   ],
   "source": [
    "#This Triangular Number Sequence is generated from a pattern of dots that form a triangle. The first 5 numbers of the sequence, or dots, are: \n",
    "#1, 3, 6, 10, 15\n",
    "#This means that the first triangle has just one dot, the second one has three dots, the third one has 6 dots and so on.\n",
    "#Write a function that gives the number of dots with its corresponding triangle number of the sequence.\n",
    "#Examples\n",
    "#triangle(1) ➞ 1\n",
    "\n",
    "#triangle(6) ➞ 21\n",
    "\n",
    "#triangle(215) ➞ 23220\n",
    "\n",
    "\n",
    "def triangle(n):\n",
    "    a=0\n",
    "    for i in range(1,n+1):\n",
    "        a=a+i\n",
    "    return a\n",
    "n=int(input(\"Enter the triangle number: \"))\n",
    "print(triangle(n))"
   ]
  },
  {
   "cell_type": "code",
   "execution_count": 14,
   "id": "19a18ca6",
   "metadata": {},
   "outputs": [
    {
     "name": "stdout",
     "output_type": "stream",
     "text": [
      "Enter the number of elements: 9\n",
      "7\n",
      "3\n",
      "5\n",
      "2\n",
      "4\n",
      "1\n",
      "6\n",
      "10\n",
      "9\n",
      "8\n"
     ]
    }
   ],
   "source": [
    "#Create a function that takes a list of numbers between 1 and 10 (excluding one number) and returns the missing number.\n",
    "#Examples\n",
    "#missing_num([1, 2, 3, 4, 6, 7, 8, 9, 10]) ➞ 5\n",
    "\n",
    "#missing_num([7, 2, 3, 6, 5, 9, 1, 4, 8]) ➞ 10\n",
    "\n",
    "#missing_num([10, 5, 1, 2, 4, 6, 8, 3, 9]) ➞ 7\n",
    "\n",
    "\n",
    "def missing_num(li):\n",
    "    my=[1,2,3,4,5,6,7,8,9,10]\n",
    "    for i in my:\n",
    "        if i not in li:\n",
    "            print(i)\n",
    "li=[]\n",
    "n=int(input(\"Enter the number of elements: \"))\n",
    "for i in range(0,n):\n",
    "    li=li+[int(input())]\n",
    "missing_num(li)"
   ]
  }
 ],
 "metadata": {
  "kernelspec": {
   "display_name": "Python 3 (ipykernel)",
   "language": "python",
   "name": "python3"
  },
  "language_info": {
   "codemirror_mode": {
    "name": "ipython",
    "version": 3
   },
   "file_extension": ".py",
   "mimetype": "text/x-python",
   "name": "python",
   "nbconvert_exporter": "python",
   "pygments_lexer": "ipython3",
   "version": "3.9.12"
  }
 },
 "nbformat": 4,
 "nbformat_minor": 5
}
