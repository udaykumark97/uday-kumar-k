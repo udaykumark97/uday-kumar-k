{
 "cells": [
  {
   "cell_type": "code",
   "execution_count": 2,
   "id": "bbb8fb46",
   "metadata": {},
   "outputs": [
    {
     "name": "stdout",
     "output_type": "stream",
     "text": [
      "Enter number of elements:- 3\n",
      "1\n",
      "2\n",
      "3\n",
      "6\n"
     ]
    }
   ],
   "source": [
    "#Write a Python Program to find sum of array?\n",
    "arr=[]\n",
    "n=int(input(\"Enter number of elements:- \"))\n",
    "for i in range(0,n):\n",
    "    arr.append(int(input()))\n",
    "res=0\n",
    "for i in arr:\n",
    "    res=res+i\n",
    "print(res)"
   ]
  },
  {
   "cell_type": "code",
   "execution_count": 27,
   "id": "432f4cdd",
   "metadata": {},
   "outputs": [
    {
     "name": "stdout",
     "output_type": "stream",
     "text": [
      "enter the number of elements:- 4\n",
      "2\n",
      "6\n",
      "8\n",
      "9\n",
      "9\n"
     ]
    }
   ],
   "source": [
    "#Write a Python Program to find largest element in an array?\n",
    "n=int(input(\"enter the number of elements:- \"))\n",
    "arr=[]\n",
    "for i in range(0,n):\n",
    "    ele=int(input())\n",
    "    arr.append(ele)\n",
    "max=arr[0]\n",
    "for j in arr:\n",
    "    if j>max:\n",
    "        max=j\n",
    "print(max)\n",
    "\n",
    "\n"
   ]
  },
  {
   "cell_type": "code",
   "execution_count": 31,
   "id": "af4193b8",
   "metadata": {},
   "outputs": [
    {
     "name": "stdout",
     "output_type": "stream",
     "text": [
      "enter the number of elements:- 5\n",
      "1\n",
      "2\n",
      "3\n",
      "7\n",
      "1\n",
      "enter the number of rotation:- 2\n",
      "[3, 7, 1, 1, 2]\n"
     ]
    }
   ],
   "source": [
    "def rotation_arr(arr,n,d):\n",
    "    temp=[]\n",
    "    i=0\n",
    "    while (i<d):\n",
    "        temp.append(arr[i])\n",
    "        i=i+1\n",
    "    i=0\n",
    "    while (d<n):\n",
    "        arr[i]=arr[d]\n",
    "        i=i+1\n",
    "        d=d+1\n",
    "    arr[:]=arr[: i]+temp\n",
    "    return arr\n",
    "n=int(input(\"enter the number of elements:- \"))\n",
    "arr=[]\n",
    "for i in range(0,n):\n",
    "    ele=int(input())\n",
    "    arr.append(ele)\n",
    "n=int(input(\"enter the number of rotation:- \"))\n",
    "print(rotation_arr(arr,len(arr),n))"
   ]
  },
  {
   "cell_type": "code",
   "execution_count": null,
   "id": "ebfd9330",
   "metadata": {},
   "outputs": [],
   "source": []
  }
 ],
 "metadata": {
  "kernelspec": {
   "display_name": "Python 3 (ipykernel)",
   "language": "python",
   "name": "python3"
  },
  "language_info": {
   "codemirror_mode": {
    "name": "ipython",
    "version": 3
   },
   "file_extension": ".py",
   "mimetype": "text/x-python",
   "name": "python",
   "nbconvert_exporter": "python",
   "pygments_lexer": "ipython3",
   "version": "3.9.12"
  }
 },
 "nbformat": 4,
 "nbformat_minor": 5
}
