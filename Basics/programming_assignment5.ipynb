{
 "cells": [
  {
   "cell_type": "code",
   "execution_count": null,
   "id": "a5f8dde1",
   "metadata": {},
   "outputs": [],
   "source": [
    "#Write a Python Program to Find LCM?\n",
    "def lcm(a,b):\n",
    "    if a>b:\n",
    "        greater=a\n",
    "    else:\n",
    "        greater=b\n",
    "        while(True):\n",
    "            if ((greater%a==0) and (greater%b==0)):\n",
    "                lcm=greater\n",
    "            break\n",
    "        greater+=1\n",
    "    return lcm\n",
    "a=int(input(\"a= \"))\n",
    "b=int(input(\"b= \"))\n",
    "print(lcm(a,b))\n",
    "            "
   ]
  },
  {
   "cell_type": "code",
   "execution_count": 4,
   "id": "3d1831f6",
   "metadata": {},
   "outputs": [
    {
     "name": "stdout",
     "output_type": "stream",
     "text": [
      "a= 2\n",
      "b= 3\n",
      "3\n"
     ]
    }
   ],
   "source": [
    "#Write a Python Program to Find HCF?\n",
    "def hcf(a,b):\n",
    "    if a>b:\n",
    "        lesser=a\n",
    "    else:\n",
    "        lesser=b\n",
    "        for i in range(1,lesser+1):\n",
    "            if ((lesser%i==0) and (lesser%i==0)):\n",
    "                hcf=i\n",
    "        return hcf\n",
    "a=int(input(\"a= \"))\n",
    "b=int(input(\"b= \"))\n",
    "print(hcf(a,b))\n",
    "            "
   ]
  },
  {
   "cell_type": "code",
   "execution_count": 8,
   "id": "18afbf27",
   "metadata": {},
   "outputs": [
    {
     "name": "stdout",
     "output_type": "stream",
     "text": [
      "Enter the value: 566\n",
      "the decimal value is 566 is: \n",
      "0b1000110110 in binary\n",
      "0o1066 in octal\n",
      "0x236 in hexa\n"
     ]
    }
   ],
   "source": [
    "#Write a Python Program to Convert Decimal to Binary, Octal and Hexadecimal?\n",
    "dec=int(input(\"Enter the value: \"))\n",
    "print(\"the decimal value is\",dec,\"is: \")\n",
    "print(bin(dec),\"in binary\")\n",
    "print(oct(dec),\"in octal\")\n",
    "print(hex(dec),\"in hexa\")"
   ]
  },
  {
   "cell_type": "code",
   "execution_count": 15,
   "id": "f8108783",
   "metadata": {},
   "outputs": [
    {
     "name": "stdout",
     "output_type": "stream",
     "text": [
      "enter your choice 1,2,3,4: 2\n",
      "enter a number: 2\n",
      "enter a number: 3\n",
      "The subtraction of two number are:  -1.0\n"
     ]
    }
   ],
   "source": [
    "#Write a Python Program to Make a Simple Calculator with 4 basic mathematical operations?\n",
    "choice=input(\"enter your choice 1,2,3,4: \")\n",
    "if choice in ('1','2','3','4'):\n",
    "    a=float(input(\"enter a number: \"))\n",
    "    b=float(input(\"enter a number: \"))\n",
    "    if choice=='1':\n",
    "        print(\"The addition of two numbers are: \",a+b) \n",
    "    elif choice=='2':\n",
    "        print(\"The subtraction of two number are: \",a-b)\n",
    "    elif choice=='3':\n",
    "        print(\"The multipilcation of two number are: \",a*b)\n",
    "    elif choice=='4':\n",
    "        print(\"The division of two numbers are: \",a/b)\n"
   ]
  },
  {
   "cell_type": "code",
   "execution_count": 17,
   "id": "cd2827be",
   "metadata": {},
   "outputs": [
    {
     "name": "stdout",
     "output_type": "stream",
     "text": [
      "enter the character: Q\n",
      "the ASCII value of Q is 81\n"
     ]
    }
   ],
   "source": [
    "#Write a Python Program To Find ASCII value of a character?\n",
    "a=input(\"enter the character: \")\n",
    "print(\"the ASCII value of\",a,\"is\",ord(a))"
   ]
  }
 ],
 "metadata": {
  "kernelspec": {
   "display_name": "Python 3 (ipykernel)",
   "language": "python",
   "name": "python3"
  },
  "language_info": {
   "codemirror_mode": {
    "name": "ipython",
    "version": 3
   },
   "file_extension": ".py",
   "mimetype": "text/x-python",
   "name": "python",
   "nbconvert_exporter": "python",
   "pygments_lexer": "ipython3",
   "version": "3.9.12"
  }
 },
 "nbformat": 4,
 "nbformat_minor": 5
}
