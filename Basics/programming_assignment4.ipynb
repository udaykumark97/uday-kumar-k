{
 "cells": [
  {
   "cell_type": "code",
   "execution_count": null,
   "id": "47e994f0",
   "metadata": {},
   "outputs": [],
   "source": [
    "#Write a Python Program to Find the Factorial of a Number?\n",
    "#Write a Python Program to Display the multiplication Table?\n",
    "#Write a Python Program to Print the Fibonacci sequence?\n",
    "#Write a Python Program to Check Armstrong Number?\n",
    "#Write a Python Program to Find Armstrong Number in an Interval"
   ]
  },
  {
   "cell_type": "code",
   "execution_count": 5,
   "id": "7f9fb8ea",
   "metadata": {},
   "outputs": [
    {
     "name": "stdout",
     "output_type": "stream",
     "text": [
      "ENTER A NUMBER: 7\n",
      "The factorial of n is 5040\n"
     ]
    }
   ],
   "source": [
    "#1Write a Python Program to Find the Factorial of a Number? \n",
    "def fact():\n",
    "    n=int(input(\"ENTER A NUMBER: \"))\n",
    "    f=1\n",
    "    for i in range(1,n+1):\n",
    "        f=f*i\n",
    "    print(\"The factorial of n is\", f)\n",
    "fact()"
   ]
  },
  {
   "cell_type": "code",
   "execution_count": 6,
   "id": "772fc707",
   "metadata": {},
   "outputs": [
    {
     "name": "stdout",
     "output_type": "stream",
     "text": [
      "enter a number: 12\n",
      "12 x 1 = 12\n",
      "12 x 2 = 24\n",
      "12 x 3 = 36\n",
      "12 x 4 = 48\n",
      "12 x 5 = 60\n",
      "12 x 6 = 72\n",
      "12 x 7 = 84\n",
      "12 x 8 = 96\n",
      "12 x 9 = 108\n",
      "12 x 10 = 120\n"
     ]
    }
   ],
   "source": [
    "#2 Write a Python Program to Display the multiplication Table?\n",
    "def mul():\n",
    "    num=int(input(\"enter a number: \"))\n",
    "    for i in range(1,num-1):\n",
    "        print(num,'x',i,'=',num*i)\n",
    "mul()"
   ]
  },
  {
   "cell_type": "code",
   "execution_count": 4,
   "id": "c18daae4",
   "metadata": {},
   "outputs": [
    {
     "name": "stdout",
     "output_type": "stream",
     "text": [
      "enter a number: 9\n",
      "0\n",
      "1\n",
      "1\n",
      "2\n",
      "3\n",
      "5\n",
      "8\n",
      "13\n",
      "21\n"
     ]
    }
   ],
   "source": [
    "#3Write a Python Program to Print the Fibonacci sequence?\n",
    "def fib():\n",
    "    num=int(input(\"enter a number: \"))\n",
    "    n1,n2=0,1\n",
    "    count=0\n",
    "    if num<=0:\n",
    "        print(\"enter a +ve number\")\n",
    "    elif num==1:\n",
    "        print(n1)\n",
    "    else:\n",
    "        while count<num:\n",
    "            print(n1)\n",
    "            nth=n1+n2\n",
    "            n1=n2\n",
    "            n2=nth\n",
    "            count+=1\n",
    "fib()"
   ]
  },
  {
   "cell_type": "code",
   "execution_count": 6,
   "id": "7297a483",
   "metadata": {},
   "outputs": [
    {
     "name": "stdout",
     "output_type": "stream",
     "text": [
      "enter a number: 407\n",
      "armstrong\n"
     ]
    }
   ],
   "source": [
    "#4Write a Python Program to Check Armstrong Number?\n",
    "def arm():\n",
    "    n=int(input(\"enter a number: \"))\n",
    "    count=0\n",
    "    con=n\n",
    "    while con>0:\n",
    "        dig=con%10\n",
    "        count+=dig**3\n",
    "        con//=10\n",
    "    if n==count:\n",
    "        print(\"armstrong\")\n",
    "    else:\n",
    "        print(\"not a armstrong\")  \n",
    "arm()"
   ]
  },
  {
   "cell_type": "code",
   "execution_count": null,
   "id": "8f5337dc",
   "metadata": {},
   "outputs": [],
   "source": [
    "#5Write a Python Program to Find Armstrong Number in an Interval?\n",
    "def arm():\n",
    "    n1=int(input(\"enter a number: \"))\n",
    "    n2=int(input(\"enter a number: \"))\n",
    "    for i in range(n1,n2+1):\n",
    "        order=len(str(i))\n",
    "        con=i\n",
    "        count=0\n",
    "        while con>0:\n",
    "            dig=con%10\n",
    "            count+=dig**order\n",
    "            con//=10\n",
    "        if i==count:\n",
    "            print(i)\n",
    "arm()"
   ]
  }
 ],
 "metadata": {
  "kernelspec": {
   "display_name": "Python 3 (ipykernel)",
   "language": "python",
   "name": "python3"
  },
  "language_info": {
   "codemirror_mode": {
    "name": "ipython",
    "version": 3
   },
   "file_extension": ".py",
   "mimetype": "text/x-python",
   "name": "python",
   "nbconvert_exporter": "python",
   "pygments_lexer": "ipython3",
   "version": "3.9.12"
  }
 },
 "nbformat": 4,
 "nbformat_minor": 5
}
