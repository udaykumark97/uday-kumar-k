{
 "cells": [
  {
   "cell_type": "code",
   "execution_count": 1,
   "id": "ab71af77",
   "metadata": {},
   "outputs": [
    {
     "name": "stdout",
     "output_type": "stream",
     "text": [
      "Enter number of elements:- 2\n",
      "1\n",
      "2\n",
      "3\n"
     ]
    }
   ],
   "source": [
    "#Write a Python program to find sum of elements in list?\n",
    "lst=[]\n",
    "n=int(input(\"Enter number of elements:- \"))\n",
    "for i in range(0,n):\n",
    "    lst.append(int(input()))\n",
    "res=0\n",
    "for i in lst:\n",
    "    res=res+i\n",
    "print(res)"
   ]
  },
  {
   "cell_type": "code",
   "execution_count": 7,
   "id": "6593148c",
   "metadata": {},
   "outputs": [
    {
     "name": "stdout",
     "output_type": "stream",
     "text": [
      "Enter number of elements:- 2\n",
      "2\n",
      "3\n",
      "6\n"
     ]
    }
   ],
   "source": [
    "#Write a Python program to  Multiply all numbers in the list?\n",
    "lst=[]\n",
    "n=int(input(\"Enter number of elements:- \"))\n",
    "for i in range(0,n):\n",
    "    lst.append(int(input()))\n",
    "res=1\n",
    "for i in lst:\n",
    "    res=res*i\n",
    "print(res)"
   ]
  },
  {
   "cell_type": "code",
   "execution_count": 14,
   "id": "5144332b",
   "metadata": {},
   "outputs": [
    {
     "name": "stdout",
     "output_type": "stream",
     "text": [
      "enter the number of elements:- 6\n",
      "2\n",
      "3\n",
      "5\n",
      "4\n",
      "1\n",
      "3\n",
      "1\n"
     ]
    }
   ],
   "source": [
    "#Write a Python program to find smallest number in a list?\n",
    "n=int(input(\"enter the number of elements:- \"))\n",
    "lst=[]\n",
    "for i in range(0,n):\n",
    "    ele=int(input())\n",
    "    lst.append(ele)\n",
    "min=lst[0]\n",
    "for j in lst:\n",
    "    if j<min:\n",
    "        min=j\n",
    "print(min)"
   ]
  },
  {
   "cell_type": "code",
   "execution_count": 16,
   "id": "daf8c7e5",
   "metadata": {},
   "outputs": [
    {
     "name": "stdout",
     "output_type": "stream",
     "text": [
      "enter the number of elements:- 4\n",
      "4\n",
      "3\n",
      "2\n",
      "1\n",
      "4\n"
     ]
    }
   ],
   "source": [
    "#Write a Python program to find largest number in a list?\n",
    "n=int(input(\"enter the number of elements:- \"))\n",
    "lst=[]\n",
    "for i in range(0,n):\n",
    "    ele=int(input())\n",
    "    lst.append(ele)\n",
    "max=lst[0]\n",
    "for j in lst:\n",
    "    if j>max:\n",
    "        max=j\n",
    "print(max)"
   ]
  },
  {
   "cell_type": "code",
   "execution_count": 22,
   "id": "99567b68",
   "metadata": {},
   "outputs": [
    {
     "name": "stdout",
     "output_type": "stream",
     "text": [
      "enter the number of elements:- 3\n",
      "2\n",
      "1\n",
      "3\n",
      "The second largest element is:  2\n"
     ]
    }
   ],
   "source": [
    "#Write a Python program to find second largest number in a list?\n",
    "n=int(input(\"enter the number of elements:- \"))\n",
    "lst=[]\n",
    "for i in range(0,n):\n",
    "    ele=int(input())\n",
    "    lst.append(ele)\n",
    "max=lst[0]\n",
    "for j in lst:\n",
    "    if j>max:\n",
    "        max=j\n",
    "lst2=list(set(lst))\n",
    "lst2.sort()\n",
    "print(\"The second largest element is: \",lst2[-2])"
   ]
  },
  {
   "cell_type": "code",
   "execution_count": 26,
   "id": "7873e8cb",
   "metadata": {},
   "outputs": [
    {
     "name": "stdout",
     "output_type": "stream",
     "text": [
      "Enter the number of elements:- 5\n",
      "1\n",
      "2\n",
      "3\n",
      "4\n",
      "5\n",
      "find the N Largest element: 3\n",
      "The N largest elements are:  [3, 4, 5]\n"
     ]
    }
   ],
   "source": [
    "#Write a Python program to find N largest elements from a list?\n",
    "n=int(input(\"Enter the number of elements:- \"))\n",
    "lst=[]\n",
    "for i in range(0,n):\n",
    "    ele=int(input())\n",
    "    lst.append(ele)\n",
    "max=lst[0]\n",
    "for j in lst:\n",
    "    if j>max:\n",
    "        max=j\n",
    "lst.sort()\n",
    "num=int(input(\"find the N Largest element: \"))\n",
    "print(\"The N largest elements are: \",lst[-num:])"
   ]
  },
  {
   "cell_type": "code",
   "execution_count": 30,
   "id": "d20647ee",
   "metadata": {},
   "outputs": [
    {
     "name": "stdout",
     "output_type": "stream",
     "text": [
      "enter the number of elements:- 5\n",
      "1\n",
      "2\n",
      "3\n",
      "4\n",
      "1\n",
      "2 4 "
     ]
    }
   ],
   "source": [
    "#Write a Python program to print even numbers in a list?\n",
    "n=int(input(\"enter the number of elements:- \"))\n",
    "lst=[]\n",
    "for i in range(0,n):\n",
    "    ele=int(input())\n",
    "    lst.append(ele)\n",
    "for j in lst:\n",
    "    if j%2==0:\n",
    "        print(j,sep=\",\",end=\" \")"
   ]
  },
  {
   "cell_type": "code",
   "execution_count": 31,
   "id": "c675d022",
   "metadata": {},
   "outputs": [
    {
     "name": "stdout",
     "output_type": "stream",
     "text": [
      "enter the number of elements:- 8\n",
      "1\n",
      "2\n",
      "3\n",
      "4\n",
      "5\n",
      "6\n",
      "7\n",
      "8\n",
      "1 3 5 7 "
     ]
    }
   ],
   "source": [
    "#Write a Python program to print odd numbers in a List?\n",
    "n=int(input(\"enter the number of elements:- \"))\n",
    "lst=[]\n",
    "for i in range(0,n):\n",
    "    ele=int(input())\n",
    "    lst.append(ele)\n",
    "for j in lst:\n",
    "    if j%2!=0:\n",
    "        print(j,sep=\",\",end=\" \")"
   ]
  },
  {
   "cell_type": "code",
   "execution_count": 38,
   "id": "718a528a",
   "metadata": {},
   "outputs": [
    {
     "name": "stdout",
     "output_type": "stream",
     "text": [
      "[1, 2, 3, 3, 2, 8]\n"
     ]
    }
   ],
   "source": [
    "#Write a Python program to Remove empty List from List?\n",
    "lst=[1,2,3,[],3,2,[],8]\n",
    "while [] in lst:\n",
    "    lst.remove([])\n",
    "print(lst)"
   ]
  },
  {
   "cell_type": "code",
   "execution_count": 40,
   "id": "009b526f",
   "metadata": {},
   "outputs": [
    {
     "name": "stdout",
     "output_type": "stream",
     "text": [
      "enter the number of elements:- 3\n",
      "1\n",
      "21\n",
      "2\n",
      "The original list is:  [1, 21, 2]\n",
      "The clone of the original list:  [1, 21, 2]\n"
     ]
    }
   ],
   "source": [
    "#Write a Python program to Cloning or Copying a list?\n",
    "n=int(input(\"enter the number of elements:- \"))\n",
    "lst=[]\n",
    "for i in range(0,n):\n",
    "    ele=int(input())\n",
    "    lst.append(ele)\n",
    "print(\"The original list is: \",lst)\n",
    "lst_clone=lst[:]\n",
    "print(\"The clone of the original list: \",lst_clone)"
   ]
  },
  {
   "cell_type": "code",
   "execution_count": 44,
   "id": "ca8a6822",
   "metadata": {},
   "outputs": [
    {
     "name": "stdout",
     "output_type": "stream",
     "text": [
      "enter the number of elements:- 4\n",
      "1\n",
      "2\n",
      "1\n",
      "3\n",
      "Enter the number of element occurence: 2\n",
      "2  has occurred 1 times\n"
     ]
    }
   ],
   "source": [
    "#Write a Python program to Count occurrences of an element in a list?\n",
    "def count(lst,x):\n",
    "    return lst.count(x)\n",
    "n=int(input(\"enter the number of elements:- \"))\n",
    "lst=[]\n",
    "for i in range(0,n):\n",
    "    ele=int(input())\n",
    "    lst.append(ele)\n",
    "x=int(input(\"Enter the number of element occurence: \"))\n",
    "print('{}  has occurred {} times'.format(x,count(lst,x)))\n",
    "\n",
    "            "
   ]
  }
 ],
 "metadata": {
  "kernelspec": {
   "display_name": "Python 3 (ipykernel)",
   "language": "python",
   "name": "python3"
  },
  "language_info": {
   "codemirror_mode": {
    "name": "ipython",
    "version": 3
   },
   "file_extension": ".py",
   "mimetype": "text/x-python",
   "name": "python",
   "nbconvert_exporter": "python",
   "pygments_lexer": "ipython3",
   "version": "3.9.12"
  }
 },
 "nbformat": 4,
 "nbformat_minor": 5
}
