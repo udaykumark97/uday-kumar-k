{
 "cells": [
  {
   "cell_type": "code",
   "execution_count": 1,
   "id": "d48115cc",
   "metadata": {},
   "outputs": [
    {
     "name": "stdout",
     "output_type": "stream",
     "text": [
      "enter a string: String\n",
      "SSttrriinngg\n"
     ]
    }
   ],
   "source": [
    "#Create a function that takes a string and returns a string in which each character is repeated once.\n",
    "#Examples\n",
    "#double_char(\"String\") ➞ \"SSttrriinngg\"\n",
    "\n",
    "#double_char(\"Hello World!\") ➞ \"HHeelllloo  WWoorrlldd!!\"\n",
    "\n",
    "#double_char(\"1234!_ \") ➞ \"11223344!!__  \"\n",
    "\n",
    "\n",
    "def double_char(st):\n",
    "    res=''\n",
    "    for i in st:\n",
    "        res=res+(i*2)\n",
    "    return res\n",
    "st=input(\"enter a string: \")\n",
    "print(double_char(st))"
   ]
  },
  {
   "cell_type": "code",
   "execution_count": 11,
   "id": "1ae14ee7",
   "metadata": {},
   "outputs": [
    {
     "name": "stdout",
     "output_type": "stream",
     "text": [
      "enter your input: True\n",
      "False\n"
     ]
    }
   ],
   "source": [
    "#Create a function that reverses a boolean value and returns the string \"boolean expected\" if another variable type is given.\n",
    "#Examples\n",
    "#reverse(True) ➞ False\n",
    "\n",
    "#reverse(False) ➞ True\n",
    "\n",
    "#reverse(0) ➞ \"boolean expected\"\n",
    "\n",
    "#reverse(None) ➞ \"boolean expected\"\n",
    "\n",
    "\n",
    "def reverse(b):\n",
    "    if b=='True':\n",
    "        print('False')\n",
    "    elif b=='False':\n",
    "        print('True')\n",
    "    else:\n",
    "        print('boolean expected')\n",
    "boo=input(\"enter your input: \")\n",
    "reverse(boo)"
   ]
  },
  {
   "cell_type": "code",
   "execution_count": 12,
   "id": "9ffff751",
   "metadata": {},
   "outputs": [
    {
     "name": "stdout",
     "output_type": "stream",
     "text": [
      "enter the number of layers: 4\n",
      "0.008 mm\n"
     ]
    }
   ],
   "source": [
    "#Create a function that returns the thickness (in meters) of a piece of paper after folding it n number of times. The paper starts off with a thickness of 0.5mm.\n",
    "#Examples\n",
    "#num_layers(1) ➞ \"0.001m\"\n",
    "# Paper folded once is 1mm (equal to 0.001m)\n",
    "\n",
    "#num_layers(4) ➞ \"0.008m\"\n",
    "# Paper folded 4 times is 8mm (equal to 0.008m)\n",
    "\n",
    "#num_layers(21) ➞ \"1048.576m\"\n",
    "# Paper folded 21 times is 1048576mm (equal to 1048.576m)\n",
    "\n",
    "\n",
    "\n",
    "def num_layers(n):\n",
    "    return(0.5*(2**n))/1000\n",
    "n=int(input(\"enter the number of layers: \"))\n",
    "print(num_layers(n),'mm')"
   ]
  },
  {
   "cell_type": "code",
   "execution_count": 16,
   "id": "25119ddf",
   "metadata": {},
   "outputs": [
    {
     "name": "stdout",
     "output_type": "stream",
     "text": [
      "enter a string: eDaBit\n",
      "[1, 3]\n"
     ]
    }
   ],
   "source": [
    "#Create a function that takes a single string as argument and returns an ordered list containing the indices of all capital letters in the string.\n",
    "#Examples\n",
    "#index_of_caps(\"eDaBiT\") ➞ [1, 3, 5]\n",
    "\n",
    "#index_of_caps(\"eQuINoX\") ➞ [1, 3, 4, 6]\n",
    "\n",
    "#index_of_caps(\"determine\") ➞ []\n",
    "\n",
    "#index_of_caps(\"STRIKE\") ➞ [0, 1, 2, 3, 4, 5]\n",
    "\n",
    "#index_of_caps(\"sUn\") ➞ [1]\n",
    "\n",
    "def index_of_caps(st):\n",
    "    res=[]\n",
    "    for i in range(0,len(st)):\n",
    "        if 'A'<=st[i]<='Z':\n",
    "            res=res+[i]\n",
    "    return res\n",
    "st=input(\"enter a string: \")\n",
    "print(index_of_caps(st))"
   ]
  },
  {
   "cell_type": "code",
   "execution_count": 19,
   "id": "b3a9308b",
   "metadata": {},
   "outputs": [
    {
     "name": "stdout",
     "output_type": "stream",
     "text": [
      "enter a number: 4\n",
      "[2, 4]\n"
     ]
    }
   ],
   "source": [
    "#Using list comprehensions, create a function that finds all even numbers from 1 to the given number.\n",
    "#Examples\n",
    "#find_even_nums(8) ➞ [2, 4, 6, 8]\n",
    "\n",
    "#find_even_nums(4) ➞ [2, 4]\n",
    "\n",
    "#find_even_nums(2) ➞ [2]\n",
    "\n",
    "def find_even_nums(n):\n",
    "    res=[]\n",
    "    for i in range(1,n+1):\n",
    "        if i%2==0:\n",
    "            res=res+[i]\n",
    "    return res\n",
    "n=int(input(\"enter a number: \"))\n",
    "print(find_even_nums(n))"
   ]
  }
 ],
 "metadata": {
  "kernelspec": {
   "display_name": "Python 3 (ipykernel)",
   "language": "python",
   "name": "python3"
  },
  "language_info": {
   "codemirror_mode": {
    "name": "ipython",
    "version": 3
   },
   "file_extension": ".py",
   "mimetype": "text/x-python",
   "name": "python",
   "nbconvert_exporter": "python",
   "pygments_lexer": "ipython3",
   "version": "3.9.12"
  }
 },
 "nbformat": 4,
 "nbformat_minor": 5
}
