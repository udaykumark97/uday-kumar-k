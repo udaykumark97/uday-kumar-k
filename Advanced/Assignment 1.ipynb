{
 "cells": [
  {
   "cell_type": "code",
   "execution_count": null,
   "id": "a99d204d",
   "metadata": {},
   "outputs": [],
   "source": [
    "#1. Write a function that takes a list of lists and returns the value of all of the symbols in it, where each symbol adds or takes something from the total score. Symbol values:\n",
    "\n",
    "# = 5\n",
    "#O = 3\n",
    "#X = 1\n",
    "#! = -1\n",
    "#!! = -3\n",
    "#!!! = -5\n",
    "#\n",
    "#A list of lists containing 2 #s, a O, and a !!! would equal (0 + 5 + 5 + 3 - 5) 8.\n",
    "#\n",
    "#If the final score is negative, return 0 (e.g. 3 #s, 3 !!s, 2 !!!s and a X would be (0 + 5 + 5 + 5 - 3 - 3 - 3 - 5 - 5 + 1) -3, so return 0.\n",
    "#\n",
    "#Examples\n",
    "#\n",
    "#check_score([\n",
    "#  [\"#\", \"!\"],\n",
    "#  [\"!!\", \"X\"]\n",
    "#]) ➞ 2\n",
    "#\n",
    "#check_score([\n",
    "#  [\"!!!\", \"O\", \"!\"],\n",
    "#  [\"X\", \"#\", \"!!!\"],\n",
    "#  [\"!!\", \"X\", \"O\"]\n",
    "#]) ➞ 0\n",
    "def sum_list(li):\n",
    "    di={\"#\":5,\"O\":3,\"X\":1,\"!\":-1,\"!!\":-3,\"!!!\":-5}\n",
    "    res=0\n",
    "    for i in li:\n",
    "        for j in i:\n",
    "            if j in di.keys():\n",
    "                res=res+di[j]\n",
    "    return res\n",
    "li=input(\"check_score\")\n",
    "print(sum_list(li))"
   ]
  },
  {
   "cell_type": "code",
   "execution_count": null,
   "id": "4e4353d8",
   "metadata": {},
   "outputs": [],
   "source": []
  }
 ],
 "metadata": {
  "kernelspec": {
   "display_name": "Python 3 (ipykernel)",
   "language": "python",
   "name": "python3"
  },
  "language_info": {
   "codemirror_mode": {
    "name": "ipython",
    "version": 3
   },
   "file_extension": ".py",
   "mimetype": "text/x-python",
   "name": "python",
   "nbconvert_exporter": "python",
   "pygments_lexer": "ipython3",
   "version": "3.9.12"
  }
 },
 "nbformat": 4,
 "nbformat_minor": 5
}
