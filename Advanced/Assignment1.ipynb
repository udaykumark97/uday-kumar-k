{
 "cells": [
  {
   "cell_type": "code",
   "execution_count": 31,
   "id": "a99d204d",
   "metadata": {},
   "outputs": [
    {
     "name": "stdout",
     "output_type": "stream",
     "text": [
      "check_score#\n",
      "5\n"
     ]
    }
   ],
   "source": [
    "#1. Write a function that takes a list of lists and returns the value of all of the symbols in it, where each symbol adds or takes something from the total score. Symbol values:\n",
    "\n",
    "# = 5\n",
    "#O = 3\n",
    "#X = 1\n",
    "#! = -1\n",
    "#!! = -3\n",
    "#!!! = -5\n",
    "#\n",
    "#A list of lists containing 2 #s, a O, and a !!! would equal (0 + 5 + 5 + 3 - 5) 8.\n",
    "#\n",
    "#If the final score is negative, return 0 (e.g. 3 #s, 3 !!s, 2 !!!s and a X would be (0 + 5 + 5 + 5 - 3 - 3 - 3 - 5 - 5 + 1) -3, so return 0.\n",
    "#\n",
    "#Examples\n",
    "#\n",
    "#check_score([\n",
    "#  [\"#\", \"!\"],\n",
    "#  [\"!!\", \"X\"]\n",
    "#]) ➞ 2\n",
    "#\n",
    "#check_score([\n",
    "#  [\"!!!\", \"O\", \"!\"],\n",
    "#  [\"X\", \"#\", \"!!!\"],\n",
    "#  [\"!!\", \"X\", \"O\"]\n",
    "#]) ➞ 0\n",
    "def sum_list(li):\n",
    "    di={\"#\":5,\"O\":3,\"X\":1,\"!\":-1,\"!!\":-3,\"!!!\":-5}\n",
    "    res=0\n",
    "    for i in li:\n",
    "        for j in i:\n",
    "            if j in di.keys():\n",
    "                res=res+di[j]\n",
    "    return res\n",
    "li=input(\"check_score\")\n",
    "print(sum_list(li))"
   ]
  },
  {
   "cell_type": "code",
   "execution_count": 56,
   "id": "4e4353d8",
   "metadata": {},
   "outputs": [
    {
     "name": "stdout",
     "output_type": "stream",
     "text": [
      "encode_morseet\n",
      ".-\n"
     ]
    }
   ],
   "source": [
    "#3. Create a function that takes a string as an argument and returns the Morse code equivalent.\n",
    "#\n",
    "#Examples\n",
    "#\n",
    "#encode_morse(\"EDABBIT CHALLENGE\") ➞ \". -.. .- -... -... .. -   -.-. .... .- .-.. .-.. . -. --. .\"\n",
    "#\n",
    "#encode_morse(\"HELP ME !\") ➞ \".... . .-.. .--.   -- .   -.-.--\"\n",
    "#\n",
    "#This dictionary can be used for coding:\n",
    "#\n",
    "#char_to_dots = {\n",
    "#  'A': '.-', 'B': '-...', 'C': '-.-.', 'D': '-..', 'E': '.', 'F': '..-.',\n",
    "#  'G': '--.', 'H': '....', 'I': '..', 'J': '.---', 'K': '-.-', 'L': '.-..',\n",
    "#  'M': '--', 'N': '-.', 'O': '---', 'P': '.--.', 'Q': '--.-', 'R': '.-.',\n",
    "#  'S': '...', 'T': '-', 'U': '..-', 'V': '...-', 'W': '.--', 'X': '-..-',\n",
    "#  'Y': '-.--', 'Z': '--..', ' ': ' ', '0': '-----',\n",
    "#  '1': '.----', '2': '..---', '3': '...--', '4': '....-', '5': '.....',\n",
    "#  '6': '-....', '7': '--...', '8': '---..', '9': '----.',\n",
    "#  '&': '.-...', \"'\": '.----.', '@': '.--.-.', ')': '-.--.-', '(': '-.--.',\n",
    "#  ':': '---...', ',': '--..--', '=': '-...-', '!': '-.-.--', '.': '.-.-.-',\n",
    "#  '-': '-....-', '+': '.-.-.', '\"': '.-..-.', '?': '..--..', '/': '-..-.'\n",
    "#}\n",
    "def mc(st):\n",
    "    di = {\n",
    "    'A': '.-', 'B': '-...', 'C': '-.-.', 'D': '-..', 'E': '.', 'F': '..-.',\n",
    "    'G': '--.', 'H': '....', 'I': '..', 'J': '.---', 'K': '-.-', 'L': '.-..',\n",
    "    'M': '--', 'N': '-.', 'O': '---', 'P': '.--.', 'Q': '--.-', 'R': '.-.',\n",
    "    'S': '...', 'T': '-', 'U': '..-', 'V': '...-', 'W': '.--', 'X': '-..-',\n",
    "    'Y': '-.--', 'Z': '--..', ' ': ' ', '0': '-----',\n",
    "    '1': '.----', '2': '..---', '3': '...--', '4': '....-', '5': '.....',\n",
    "    '6': '-....', '7': '--...', '8': '---..', '9': '----.',\n",
    "    '&': '.-...', \"'\": '.----.', '@': '.--.-.', ')': '-.--.-', '(': '-.--.',\n",
    "    ':': '---...', ',': '--..--', '=': '-...-', '!': '-.-.--', '.': '.-.-.-',\n",
    "    '-': '-....-', '+': '.-.-.', '\"': '.-..-.', '?': '..--..', '/': '-..-.'\n",
    "    }\n",
    "    res=''\n",
    "    for i in upper:\n",
    "        if i in di.keys():\n",
    "            res=res+di[i]\n",
    "    return res\n",
    "st=input(\"encode_morse\")\n",
    "upper=st.upper()\n",
    "print(mc(st))\n",
    "            "
   ]
  },
  {
   "cell_type": "code",
   "execution_count": null,
   "id": "e3bdefbd",
   "metadata": {},
   "outputs": [],
   "source": []
  },
  {
   "cell_type": "code",
   "execution_count": 33,
   "id": "64f54bef",
   "metadata": {},
   "outputs": [
    {
     "data": {
      "text/plain": [
       "120"
      ]
     },
     "execution_count": 33,
     "metadata": {},
     "output_type": "execute_result"
    }
   ],
   "source": [
    "#2. Create a function that takes a variable number of arguments, each argument representing the number of items in a group, and returns the number of permutations (combinations) of items that you could get by taking one item from each group.\n",
    "\n",
    "#Examples\n",
    "\n",
    "#combinations(2, 3) ➞ 6\n",
    "\n",
    "#combinations(3, 7, 4) ➞ 84\n",
    "\n",
    "#combinations(2, 3, 4, 5) ➞ 120\n",
    "def combinations(*args):\n",
    "    perm=1\n",
    "    for a in args:\n",
    "        perm*=a\n",
    "    return perm\n",
    "#combinations(2,3)\n",
    "#combinations(3,7,4)\n",
    "combinations(2,3,4,5)\n",
    "    \n"
   ]
  },
  {
   "cell_type": "code",
   "execution_count": 4,
   "id": "622661b4",
   "metadata": {},
   "outputs": [
    {
     "name": "stdout",
     "output_type": "stream",
     "text": [
      "deep\n",
      "[False, True, True, False]\n",
      "None\n"
     ]
    }
   ],
   "source": [
    "#5.  Create a function that converts a word to a bitstring and then to a boolean list based on the following criteria:\n",
    "\n",
    "   # 1. Locate the position of the letter in the English alphabet (from 1 to 26).\n",
    "   # 2. Odd positions will be represented as 1 and 0 otherwise.\n",
    "   #3. Convert the represented positions to boolean values, 1 for True and 0 for False.\n",
    "    #4. Store the conversions into an array.\n",
    "\n",
    " #Examples\n",
    "\n",
    "#to_boolean_list(\"deep\") ➞ [False, True, True, False]\n",
    "# deep converts to 0110\n",
    "# d is the 4th alphabet - 0\n",
    "# e is the 5th alphabet - 1\n",
    "# e is the 5th alphabet - 1\n",
    "# p is the 16th alphabet - 0\n",
    "\n",
    "#to_boolean_list(\"loves\") ➞ [False, True, False, True, True]\n",
    "\n",
    "#to_boolean_list(\"tesh\") ➞ [False, True, True, False]\n",
    "def bitstring(a):\n",
    "    dic={\"a\":1,\"b\":2,\"c\":3,\"d\":4,\"e\":5,\"f\":6,\"g\":7,\"h\":8,\"i\":9,\"j\":10,\"k\":11,\"l\":12,\"m\":13,\"n\":14,\"o\":15,\"p\":16,\"q\":17,\"r\":18,\"s\":19,\"t\":20,\"u\":21,\"v\":22,\"w\":23,\"x\":24,\"y\":25,\"z\":26}\n",
    "    bool_lst=[]\n",
    "    for i in a:\n",
    "        boolean=100\n",
    "        if dic[i]%2==0:\n",
    "            boolean=False\n",
    "            \n",
    "        else:\n",
    "            boolean=True\n",
    "        bool_lst.append(boolean)\n",
    "    print(bool_lst)\n",
    "\n",
    "out=input()\n",
    "print(bitstring(out))"
   ]
  },
  {
   "cell_type": "code",
   "execution_count": 66,
   "id": "a9b5862b",
   "metadata": {},
   "outputs": [
    {
     "data": {
      "text/plain": [
       "True"
      ]
     },
     "execution_count": 66,
     "metadata": {},
     "output_type": "execute_result"
    }
   ],
   "source": [
    "#4.  Write a function that takes a number and returns True if it's a prime; False otherwise. The number can be 2^64-1 (2 to the power of 63, not XOR). With the standard technique it would be O(2^64-1), which is much too large for the 10 second time limit.\n",
    "\n",
    "#Examples\n",
    "\n",
    "#prime(7) ➞ True\n",
    "\n",
    "#prime(56963) ➞ True\n",
    "\n",
    "#prime(5151512515524) ➞ False\n",
    "def prime(a):\n",
    "    if a>1:\n",
    "        flag=False\n",
    "        for i in range(2,a):\n",
    "            if a%i==0:\n",
    "                flag=True\n",
    "    if flag:\n",
    "        return False\n",
    "    else:\n",
    "        return True\n",
    "prime(7)\n"
   ]
  }
 ],
 "metadata": {
  "kernelspec": {
   "display_name": "Python 3 (ipykernel)",
   "language": "python",
   "name": "python3"
  },
  "language_info": {
   "codemirror_mode": {
    "name": "ipython",
    "version": 3
   },
   "file_extension": ".py",
   "mimetype": "text/x-python",
   "name": "python",
   "nbconvert_exporter": "python",
   "pygments_lexer": "ipython3",
   "version": "3.9.12"
  }
 },
 "nbformat": 4,
 "nbformat_minor": 5
}
